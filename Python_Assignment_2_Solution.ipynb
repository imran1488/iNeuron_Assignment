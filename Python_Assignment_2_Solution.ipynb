{
 "cells": [
  {
   "cell_type": "markdown",
   "metadata": {},
   "source": [
    "### 1. Create the below pattern using nested for loop in Python.\n",
    "            \n",
    "            *\n",
    "            * *\n",
    "            * * *\n",
    "            * * * *\n",
    "            * * * * *\n",
    "            * * * *\n",
    "            * * *\n",
    "            * *\n",
    "            *"
   ]
  },
  {
   "cell_type": "code",
   "execution_count": 1,
   "metadata": {},
   "outputs": [
    {
     "name": "stdout",
     "output_type": "stream",
     "text": [
      "* \n",
      "* * \n",
      "* * * \n",
      "* * * * \n",
      "* * * * * \n",
      "* * * * \n",
      "* * * \n",
      "* * \n",
      "* \n"
     ]
    }
   ],
   "source": [
    "for i in range(1,6):\n",
    "    for j in range(1,6):\n",
    "        if(i==j):\n",
    "            print(\"* \"*j,sep = ' ')\n",
    "for i in range(1,2):\n",
    "    for j in range(5-i,0,-1):\n",
    "        print(\"* \"*j,sep = ' ')"
   ]
  },
  {
   "cell_type": "markdown",
   "metadata": {},
   "source": [
    "### 2. Write a Python program to reverse a word after accepting the input from the user.\n",
    "\n",
    "#### Sample Output:\n",
    "Input word: ineuron\n",
    "Output: norueni"
   ]
  },
  {
   "cell_type": "code",
   "execution_count": 2,
   "metadata": {},
   "outputs": [
    {
     "name": "stdout",
     "output_type": "stream",
     "text": [
      "Input word: ineuron\n",
      "Outoput:  norueni\n"
     ]
    }
   ],
   "source": [
    "val = input(\"Input word: \")\n",
    "reverse = val[-1::-1]\n",
    "print(\"Outoput: \",reverse)\n"
   ]
  }
 ],
 "metadata": {
  "kernelspec": {
   "display_name": "Python 3",
   "language": "python",
   "name": "python3"
  },
  "language_info": {
   "codemirror_mode": {
    "name": "ipython",
    "version": 3
   },
   "file_extension": ".py",
   "mimetype": "text/x-python",
   "name": "python",
   "nbconvert_exporter": "python",
   "pygments_lexer": "ipython3",
   "version": "3.7.7"
  }
 },
 "nbformat": 4,
 "nbformat_minor": 4
}
